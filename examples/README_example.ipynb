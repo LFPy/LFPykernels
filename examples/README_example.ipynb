{
 "cells": [
  {
   "cell_type": "code",
   "execution_count": 1,
   "metadata": {},
   "outputs": [],
   "source": [
    "%matplotlib inline"
   ]
  },
  {
   "cell_type": "code",
   "execution_count": 2,
   "metadata": {},
   "outputs": [
    {
     "name": "stdout",
     "output_type": "stream",
     "text": [
      "mechanisms loaded: True\n"
     ]
    }
   ],
   "source": [
    "import matplotlib.pyplot as plt\n",
    "import scipy.stats as st\n",
    "import numpy as np\n",
    "from lfpykernels import GaussCylinderPotential, KernelApprox\n",
    "import neuron\n",
    "\n",
    "# recompile mod files if needed\n",
    "mech_loaded = neuron.load_mechanisms('mod')\n",
    "if not mech_loaded:\n",
    "    os.system('cd mod && nrnivmodl && cd -')\n",
    "    mech_loaded = neuron.load_mechanisms('mod')\n",
    "print(f'mechanisms loaded: {mech_loaded}')\n",
    "\n",
    "# misc parameters\n",
    "dt = 2**-4  # time resolution (ms)\n",
    "t_X = 500  # time of synaptic activations (ms)\n",
    "tau = 50  # duration of impulse response function after onset (ms)\n",
    "Vrest = -65  # assumed average postsynaptic potential (mV)\n",
    "\n",
    "X=['E', 'I']   # presynaptic population names\n",
    "N_X = np.array([8192, 1024])  # presynpatic population sizes\n",
    "Y = 'E' # postsynaptic population\n",
    "N_Y = 8192  # postsynaptic population size\n",
    "C_YX = np.array([0.05, 0.05])  # pairwise connection probability between populations X and Y\n",
    "nu_X = {'E': 2.5, 'I': 5.0}  # assumed spike rates of each population (spikes/s)\n",
    "g_eff = True  # account for changes in passive leak due to persistent synaptic activations\n",
    "\n",
    "def set_passive(cell, Vrest):\n",
    "    \"\"\"Insert passive leak channel across all sections\n",
    "\n",
    "    Parameters\n",
    "    ----------\n",
    "    cell: object\n",
    "        LFPy.NetworkCell like object\n",
    "    Vrest: float\n",
    "        Steady state potential\n",
    "    \"\"\"\n",
    "    for sec in cell.template.all:\n",
    "        sec.insert('pas')\n",
    "        sec.g_pas = 0.0003  # (S/cm2)\n",
    "        sec.e_pas = Vrest  # (mV)\n",
    "\n",
    "# parameters for LFPy.NetworkCell representative of postsynaptic population \n",
    "cellParameters={\n",
    "    'templatefile': 'BallAndSticksTemplate.hoc',\n",
    "    'templatename': 'BallAndSticksTemplate',\n",
    "    'custom_fun': [set_passive],\n",
    "    'custom_fun_args': [{'Vrest': Vrest}],\n",
    "    'templateargs': None,\n",
    "    'delete_sections': False,\n",
    "    'morphology': 'BallAndSticks_E.hoc'}\n",
    "\n",
    "populationParameters={\n",
    "        'radius': 150.0,  # population radius (µm)\n",
    "        'loc': 0.0,  # average depth of cell bodies (µm)\n",
    "        'scale': 75.0}  # standard deviation (µm)\n",
    "\n",
    "# Predictor for extracellular potentials across depth assuming planar disk source \n",
    "# elements convolved with Gaussian along z-axis. \n",
    "# See https://lfpykernels.readthedocs.io/en/latest/#class-gausscylinderpotential for details\n",
    "probe = GaussCylinderPotential(\n",
    "    cell=None,\n",
    "    z=np.linspace(1000., -200., 13),  # depth of contacts (µm)\n",
    "    sigma=0.3,  # tissue conductivity (S/m)\n",
    "    R=populationParameters['radius'],  # \n",
    "    sigma_z=populationParameters['scale'],\n",
    "    )\n",
    "        \n",
    "# Create KernelApprox object. See https://lfpykernels.readthedocs.io/en/latest/#class-kernelapprox for details\n",
    "kernel = KernelApprox(\n",
    "    X=X,\n",
    "    Y=Y,\n",
    "    N_X=N_X,\n",
    "    N_Y=N_Y,\n",
    "    C_YX=C_YX,\n",
    "    cellParameters=cellParameters,\n",
    "    populationParameters=populationParameters,\n",
    "    # function and parameters used to estimate average multapse count:\n",
    "    multapseFunction=st.truncnorm,\n",
    "    multapseParameters=[\n",
    "        {'a': (1 - 2.) / .6, 'b': (10 - 2.) / .6, 'loc': 2.0, 'scale': 0.6},\n",
    "        {'a': (1 - 5.) / 1.1, 'b': (10 - 5.) / 1.1, 'loc': 5.0, 'scale': 1.1}],\n",
    "    # function and parameters for delay distribution from connections between a \n",
    "    # population in X onto population Y:\n",
    "    delayFunction=st.truncnorm,\n",
    "    delayParameters=[{'a': -2.2, 'b': np.inf, 'loc': 1.3, 'scale': 0.5},\n",
    "                     {'a': -1.5, 'b': np.inf, 'loc': 1.2, 'scale': 0.6}],\n",
    "    # parameters for synapses from connections by populations X onto Y\n",
    "    synapseParameters=[\n",
    "        {'weight': 0.00012, 'syntype': 'Exp2Syn', 'tau1': 0.2, 'tau2': 1.8, 'e': 0.0},\n",
    "        {'weight': 0.002, 'syntype': 'Exp2Syn', 'tau1': 0.1, 'tau2': 9.0, 'e': -80.0}],\n",
    "    # parameters for spatial synaptic connectivity by populations X onto Y\n",
    "    synapsePositionArguments=[\n",
    "        {'section': ['apic', 'dend'],\n",
    "         'fun': [st.norm],\n",
    "         'funargs': [{'loc': 50.0, 'scale': 100.0}],\n",
    "         'funweights': [1.0]},\n",
    "        {'section': ['soma', 'apic', 'dend'],\n",
    "         'fun': [st.norm],\n",
    "         'funargs': [{'loc': -100.0, 'scale': 100.0}],\n",
    "         'funweights': [1.0]}],\n",
    "    # parameters for extrinsic synaptic input\n",
    "    extSynapseParameters={'syntype': 'Exp2Syn', 'weight': 0.0002, 'tau1': 0.2, 'tau2': 1.8, 'e': 0.0},\n",
    "    nu_ext=40.,  # external activation rate (spikes/s)\n",
    "    n_ext=450,  # number of extrinsic synapses  \n",
    "    nu_X=nu_X,\n",
    ")\n",
    "\n",
    "# make kernel predictions for connection from populations X='I' onto Y='E'\n",
    "H = kernel.get_kernel(\n",
    "    probes=[probe],\n",
    "    Vrest=Vrest, dt=dt, X='I', t_X=t_X, tau=tau,\n",
    "    g_eff=g_eff)"
   ]
  },
  {
   "cell_type": "code",
   "execution_count": 3,
   "metadata": {},
   "outputs": [
    {
     "data": {
      "image/png": "[encoded data removed]",
      "text/plain": [
       "<Figure size 1152x720 with 2 Axes>"
      ]
     },
     "metadata": {
      "needs_background": "light"
     },
     "output_type": "display_data"
    }
   ],
   "source": [
    "# display kernel\n",
    "fig = plt.figure(figsize=(16, 10))\n",
    "data = H['GaussCylinderPotential']\n",
    "plt.imshow(data, \n",
    "           extent=[-tau, tau, probe.z.min()-50, probe.z.max()+50], \n",
    "           vmin=-abs(data).max() / 2, vmax=abs(data).max() / 2)\n",
    "plt.axis('tight')\n",
    "plt.xlabel(r'$\\tau$ (ms)')\n",
    "plt.ylabel('depth (µm)')\n",
    "cb = plt.colorbar()\n",
    "cb.set_label('mV')"
   ]
  },
  {
   "cell_type": "code",
   "execution_count": null,
   "metadata": {},
   "outputs": [],
   "source": []
  }
 ],
 "metadata": {
  "kernelspec": {
   "display_name": "Python 3",
   "language": "python",
   "name": "python3"
  },
  "language_info": {
   "codemirror_mode": {
    "name": "ipython",
    "version": 3
   },
   "file_extension": ".py",
   "mimetype": "text/x-python",
   "name": "python",
   "nbconvert_exporter": "python",
   "pygments_lexer": "ipython3",
   "version": "3.8.10"
  }
 },
 "nbformat": 4,
 "nbformat_minor": 4
}
